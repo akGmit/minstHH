{
 "cells": [
  {
   "cell_type": "markdown",
   "metadata": {},
   "source": [
    "<h3><b>Imports"
   ]
  },
  {
   "cell_type": "code",
   "execution_count": 17,
   "metadata": {},
   "outputs": [],
   "source": [
    "from __future__ import print_function\n",
    "import keras as kr\n",
    "from keras.models import Sequential\n",
    "from keras.layers import Dense, Dropout, Flatten\n",
    "from keras.layers import Conv2D, MaxPooling2D\n",
    "from keras import backend as K\n",
    "import numpy as np\n",
    "import matplotlib.pyplot as plt\n",
    "# A module implemented for a specific task of raeding MNIST raw files\n",
    "import recognition.mnist_fread as mread"
   ]
  },
  {
   "cell_type": "markdown",
   "metadata": {},
   "source": [
    "<h3><b>Variables"
   ]
  },
  {
   "cell_type": "code",
   "execution_count": 18,
   "metadata": {},
   "outputs": [],
   "source": [
    "# CNN configuration variables\n",
    "batch_size = 128\n",
    "num_classes = 10\n",
    "epochs = 12\n",
    "img_rows, img_cols = 28, 28\n",
    "input_shape = (img_rows, img_cols, 1)\n",
    "\n",
    "# MNIST files locations\n",
    "loc = {'test_img': 'mnist/t10k-images.idx3-ubyte', 'test_lbl': 'mnist/t10k-labels.idx1-ubyte',\n",
    "        'train_img': 'mnist/train-images.idx3-ubyte', 'train_lbl': 'mnist/train-labels.idx1-ubyte' }"
   ]
  },
  {
   "cell_type": "markdown",
   "metadata": {},
   "source": [
    "<h3><b>Read MNIST data"
   ]
  },
  {
   "cell_type": "code",
   "execution_count": 19,
   "metadata": {},
   "outputs": [
    {
     "name": "stdout",
     "output_type": "stream",
     "text": [
      "train_img shape:  (60000, 28, 28, 1)\n",
      "train_lbl shape:  (60000, 10)\n"
     ]
    }
   ],
   "source": [
    "train_img = mread.dig_images(loc['train_img'])\n",
    "train_lbl = mread.labels(loc['train_lbl'])\n",
    "train_lbl =  kr.utils.to_categorical(train_lbl, num_classes)\n",
    "\n",
    "test_img = mread.dig_images(loc['test_img'])\n",
    "test_lbl = mread.labels(loc['test_lbl'])\n",
    "test_lbl = kr.utils.to_categorical(test_lbl, num_classes)\n",
    "\n",
    "print('train_img shape: ', train_img.shape)\n",
    "print('train_lbl shape: ', train_lbl.shape)"
   ]
  },
  {
   "cell_type": "markdown",
   "metadata": {},
   "source": [
    "<h3><b>Build neural network"
   ]
  },
  {
   "cell_type": "code",
   "execution_count": 20,
   "metadata": {},
   "outputs": [],
   "source": [
    "model = Sequential()\n",
    "model.add(Conv2D(32, kernel_size=(3, 3),\n",
    "              activation='relu',\n",
    "              input_shape=input_shape))\n",
    "model.add(Conv2D(64, (3, 3), activation='relu'))\n",
    "model.add(MaxPooling2D(pool_size=(2, 2)))\n",
    "model.add(Dropout(0.25))\n",
    "model.add(Flatten())\n",
    "model.add(Dense(128, activation='relu'))\n",
    "model.add(Dropout(0.5))\n",
    "model.add(Dense(num_classes, activation='softmax'))\n",
    "\n",
    "model.compile(loss=kr.losses.categorical_crossentropy,\n",
    "            optimizer=kr.optimizers.Adadelta(),\n",
    "            metrics=['accuracy'])"
   ]
  },
  {
   "cell_type": "code",
   "execution_count": 8,
   "metadata": {},
   "outputs": [
    {
     "name": "stdout",
     "output_type": "stream",
     "text": [
      "Model: \"sequential_1\"\n",
      "_________________________________________________________________\n",
      "Layer (type)                 Output Shape              Param #   \n",
      "=================================================================\n",
      "conv2d_1 (Conv2D)            (None, 26, 26, 32)        320       \n",
      "_________________________________________________________________\n",
      "conv2d_2 (Conv2D)            (None, 24, 24, 64)        18496     \n",
      "_________________________________________________________________\n",
      "max_pooling2d_1 (MaxPooling2 (None, 12, 12, 64)        0         \n",
      "_________________________________________________________________\n",
      "dropout_1 (Dropout)          (None, 12, 12, 64)        0         \n",
      "_________________________________________________________________\n",
      "flatten_1 (Flatten)          (None, 9216)              0         \n",
      "_________________________________________________________________\n",
      "dense_1 (Dense)              (None, 128)               1179776   \n",
      "_________________________________________________________________\n",
      "dropout_2 (Dropout)          (None, 128)               0         \n",
      "_________________________________________________________________\n",
      "dense_2 (Dense)              (None, 10)                1290      \n",
      "=================================================================\n",
      "Total params: 1,199,882\n",
      "Trainable params: 1,199,882\n",
      "Non-trainable params: 0\n",
      "_________________________________________________________________\n"
     ]
    }
   ],
   "source": [
    "model.summary()"
   ]
  },
  {
   "cell_type": "markdown",
   "metadata": {},
   "source": [
    "<h3><b>Train model"
   ]
  },
  {
   "cell_type": "code",
   "execution_count": 13,
   "metadata": {},
   "outputs": [
    {
     "name": "stdout",
     "output_type": "stream",
     "text": [
      "WARNING:tensorflow:From /usr/local/lib/python3.6/dist-packages/keras/backend/tensorflow_backend.py:422: The name tf.global_variables is deprecated. Please use tf.compat.v1.global_variables instead.\n",
      "\n",
      "Train on 60000 samples, validate on 10000 samples\n",
      "Epoch 1/12\n",
      "60000/60000 [==============================] - 153s 3ms/step - loss: 0.2958 - accuracy: 0.9093 - val_loss: 0.0590 - val_accuracy: 0.9805\n",
      "Epoch 2/12\n",
      "60000/60000 [==============================] - 155s 3ms/step - loss: 0.0974 - accuracy: 0.9714 - val_loss: 0.0435 - val_accuracy: 0.9852\n",
      "Epoch 3/12\n",
      "60000/60000 [==============================] - 152s 3ms/step - loss: 0.0735 - accuracy: 0.9783 - val_loss: 0.0375 - val_accuracy: 0.9879\n",
      "Epoch 4/12\n",
      "60000/60000 [==============================] - 149s 2ms/step - loss: 0.0603 - accuracy: 0.9823 - val_loss: 0.0326 - val_accuracy: 0.9890\n",
      "Epoch 5/12\n",
      "60000/60000 [==============================] - 151s 3ms/step - loss: 0.0534 - accuracy: 0.9841 - val_loss: 0.0368 - val_accuracy: 0.9882\n",
      "Epoch 6/12\n",
      "60000/60000 [==============================] - 147s 2ms/step - loss: 0.0474 - accuracy: 0.9861 - val_loss: 0.0332 - val_accuracy: 0.9892\n",
      "Epoch 7/12\n",
      "60000/60000 [==============================] - 155s 3ms/step - loss: 0.0422 - accuracy: 0.9871 - val_loss: 0.0299 - val_accuracy: 0.9902\n",
      "Epoch 8/12\n",
      "60000/60000 [==============================] - 164s 3ms/step - loss: 0.0413 - accuracy: 0.9877 - val_loss: 0.0305 - val_accuracy: 0.9901\n",
      "Epoch 9/12\n",
      "60000/60000 [==============================] - 148s 2ms/step - loss: 0.0373 - accuracy: 0.9883 - val_loss: 0.0302 - val_accuracy: 0.9903\n",
      "Epoch 10/12\n",
      "60000/60000 [==============================] - 150s 2ms/step - loss: 0.0332 - accuracy: 0.9898 - val_loss: 0.0276 - val_accuracy: 0.9907\n",
      "Epoch 11/12\n",
      "60000/60000 [==============================] - 156s 3ms/step - loss: 0.0311 - accuracy: 0.9905 - val_loss: 0.0285 - val_accuracy: 0.9921\n",
      "Epoch 12/12\n",
      "60000/60000 [==============================] - 150s 2ms/step - loss: 0.0292 - accuracy: 0.9908 - val_loss: 0.0290 - val_accuracy: 0.9909\n"
     ]
    },
    {
     "data": {
      "text/plain": [
       "<keras.callbacks.callbacks.History at 0x7f99c45fb5c0>"
      ]
     },
     "execution_count": 13,
     "metadata": {},
     "output_type": "execute_result"
    }
   ],
   "source": [
    "model.fit(train_img, train_lbl,\n",
    "          batch_size=batch_size,\n",
    "          epochs=epochs,\n",
    "          verbose=1,\n",
    "          validation_data=(test_img, test_lbl))"
   ]
  },
  {
   "cell_type": "markdown",
   "metadata": {},
   "source": [
    "<h3><b>Loss and accuracy"
   ]
  },
  {
   "cell_type": "code",
   "execution_count": 15,
   "metadata": {},
   "outputs": [
    {
     "name": "stdout",
     "output_type": "stream",
     "text": [
      "Test loss: 0.029013746584429463\n",
      "Test accuracy: 0.9908999800682068\n"
     ]
    }
   ],
   "source": [
    "score = model.evaluate(test_img, test_lbl, verbose=0)\n",
    "print('Test loss:', score[0])\n",
    "print('Test accuracy:', score[1])"
   ]
  },
  {
   "cell_type": "markdown",
   "metadata": {},
   "source": [
    "<h3><b>Save model"
   ]
  },
  {
   "cell_type": "code",
   "execution_count": 16,
   "metadata": {},
   "outputs": [],
   "source": [
    "model.save('recognition/cnn_99.h5')"
   ]
  }
 ],
 "metadata": {
  "kernelspec": {
   "display_name": "Python 3",
   "language": "python",
   "name": "python3"
  },
  "language_info": {
   "codemirror_mode": {
    "name": "ipython",
    "version": 3
   },
   "file_extension": ".py",
   "mimetype": "text/x-python",
   "name": "python",
   "nbconvert_exporter": "python",
   "pygments_lexer": "ipython3",
   "version": "3.6.8"
  }
 },
 "nbformat": 4,
 "nbformat_minor": 4
}
